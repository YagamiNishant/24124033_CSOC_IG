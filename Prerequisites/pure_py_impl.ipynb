{
 "cells": [
  {
   "cell_type": "markdown",
   "id": "28d24ff6-28e6-475d-b094-98c43f99aa49",
   "metadata": {},
   "source": [
    "# $\\textbf{PURE \ PYTHON \ IMPLEMENTATION:}$"
   ]
  },
  {
   "cell_type": "code",
   "execution_count": 1,
   "id": "cd29e593-40a2-4db7-9ead-f3c2f57ae5e6",
   "metadata": {},
   "outputs": [],
   "source": [
    "import pandas as pd"
   ]
  },
  {
   "cell_type": "code",
   "execution_count": null,
   "id": "2650e258-a32c-46b1-9d7d-be6a9669d760",
   "metadata": {},
   "outputs": [],
   "source": []
  }
 ],
 "metadata": {
  "kernelspec": {
   "display_name": "Python 3 (ipykernel)",
   "language": "python",
   "name": "python3"
  },
  "language_info": {
   "codemirror_mode": {
    "name": "ipython",
    "version": 3
   },
   "file_extension": ".py",
   "mimetype": "text/x-python",
   "name": "python",
   "nbconvert_exporter": "python",
   "pygments_lexer": "ipython3",
   "version": "3.11.11"
  }
 },
 "nbformat": 4,
 "nbformat_minor": 5
}
